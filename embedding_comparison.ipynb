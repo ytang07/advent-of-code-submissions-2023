{
 "cells": [
  {
   "cell_type": "code",
   "execution_count": 1,
   "metadata": {},
   "outputs": [
    {
     "name": "stdout",
     "output_type": "stream",
     "text": [
      "Requirement already satisfied: pymilvus in /Users/yujiantang/Documents/workspace/hello_world_project/hw_milvus/lib/python3.10/site-packages (2.3.1)\n",
      "Requirement already satisfied: milvus in /Users/yujiantang/Documents/workspace/hello_world_project/hw_milvus/lib/python3.10/site-packages (2.3.3)\n",
      "Requirement already satisfied: sentence-transformers in /Users/yujiantang/Documents/workspace/hello_world_project/hw_milvus/lib/python3.10/site-packages (2.2.2)\n",
      "Requirement already satisfied: grpcio<=1.58.0,>=1.49.1 in /Users/yujiantang/Documents/workspace/hello_world_project/hw_milvus/lib/python3.10/site-packages (from pymilvus) (1.53.0)\n",
      "Requirement already satisfied: protobuf>=3.20.0 in /Users/yujiantang/Documents/workspace/hello_world_project/hw_milvus/lib/python3.10/site-packages (from pymilvus) (4.22.3)\n",
      "Requirement already satisfied: environs<=9.5.0 in /Users/yujiantang/Documents/workspace/hello_world_project/hw_milvus/lib/python3.10/site-packages (from pymilvus) (9.5.0)\n",
      "Requirement already satisfied: ujson>=2.0.0 in /Users/yujiantang/Documents/workspace/hello_world_project/hw_milvus/lib/python3.10/site-packages (from pymilvus) (5.7.0)\n",
      "Requirement already satisfied: pandas>=1.2.4 in /Users/yujiantang/Documents/workspace/hello_world_project/hw_milvus/lib/python3.10/site-packages (from pymilvus) (2.0.0)\n",
      "Requirement already satisfied: requests in /Users/yujiantang/Documents/workspace/hello_world_project/hw_milvus/lib/python3.10/site-packages (from pymilvus) (2.28.2)\n",
      "Requirement already satisfied: minio in /Users/yujiantang/Documents/workspace/hello_world_project/hw_milvus/lib/python3.10/site-packages (from pymilvus) (7.1.17)\n",
      "Requirement already satisfied: transformers<5.0.0,>=4.6.0 in /Users/yujiantang/Documents/workspace/hello_world_project/hw_milvus/lib/python3.10/site-packages (from sentence-transformers) (4.34.1)\n",
      "Requirement already satisfied: tqdm in /Users/yujiantang/Documents/workspace/hello_world_project/hw_milvus/lib/python3.10/site-packages (from sentence-transformers) (4.65.0)\n",
      "Requirement already satisfied: torch>=1.6.0 in /Users/yujiantang/Documents/workspace/hello_world_project/hw_milvus/lib/python3.10/site-packages (from sentence-transformers) (2.0.0)\n",
      "Requirement already satisfied: torchvision in /Users/yujiantang/Documents/workspace/hello_world_project/hw_milvus/lib/python3.10/site-packages (from sentence-transformers) (0.15.1)\n",
      "Requirement already satisfied: numpy in /Users/yujiantang/Documents/workspace/hello_world_project/hw_milvus/lib/python3.10/site-packages (from sentence-transformers) (1.24.2)\n",
      "Requirement already satisfied: scikit-learn in /Users/yujiantang/Documents/workspace/hello_world_project/hw_milvus/lib/python3.10/site-packages (from sentence-transformers) (1.3.2)\n",
      "Requirement already satisfied: scipy in /Users/yujiantang/Documents/workspace/hello_world_project/hw_milvus/lib/python3.10/site-packages (from sentence-transformers) (1.10.1)\n",
      "Requirement already satisfied: nltk in /Users/yujiantang/Documents/workspace/hello_world_project/hw_milvus/lib/python3.10/site-packages (from sentence-transformers) (3.8.1)\n",
      "Requirement already satisfied: sentencepiece in /Users/yujiantang/Documents/workspace/hello_world_project/hw_milvus/lib/python3.10/site-packages (from sentence-transformers) (0.1.98)\n",
      "Requirement already satisfied: huggingface-hub>=0.4.0 in /Users/yujiantang/Documents/workspace/hello_world_project/hw_milvus/lib/python3.10/site-packages (from sentence-transformers) (0.16.4)\n",
      "Requirement already satisfied: marshmallow>=3.0.0 in /Users/yujiantang/Documents/workspace/hello_world_project/hw_milvus/lib/python3.10/site-packages (from environs<=9.5.0->pymilvus) (3.19.0)\n",
      "Requirement already satisfied: python-dotenv in /Users/yujiantang/Documents/workspace/hello_world_project/hw_milvus/lib/python3.10/site-packages (from environs<=9.5.0->pymilvus) (1.0.0)\n",
      "Requirement already satisfied: filelock in /Users/yujiantang/Documents/workspace/hello_world_project/hw_milvus/lib/python3.10/site-packages (from huggingface-hub>=0.4.0->sentence-transformers) (3.11.0)\n",
      "Requirement already satisfied: fsspec in /Users/yujiantang/Documents/workspace/hello_world_project/hw_milvus/lib/python3.10/site-packages (from huggingface-hub>=0.4.0->sentence-transformers) (2023.6.0)\n",
      "Requirement already satisfied: pyyaml>=5.1 in /Users/yujiantang/Documents/workspace/hello_world_project/hw_milvus/lib/python3.10/site-packages (from huggingface-hub>=0.4.0->sentence-transformers) (6.0)\n",
      "Requirement already satisfied: typing-extensions>=3.7.4.3 in /Users/yujiantang/Documents/workspace/hello_world_project/hw_milvus/lib/python3.10/site-packages (from huggingface-hub>=0.4.0->sentence-transformers) (4.5.0)\n",
      "Requirement already satisfied: packaging>=20.9 in /Users/yujiantang/Documents/workspace/hello_world_project/hw_milvus/lib/python3.10/site-packages (from huggingface-hub>=0.4.0->sentence-transformers) (23.1)\n",
      "Requirement already satisfied: python-dateutil>=2.8.2 in /Users/yujiantang/Documents/workspace/hello_world_project/hw_milvus/lib/python3.10/site-packages (from pandas>=1.2.4->pymilvus) (2.8.2)\n",
      "Requirement already satisfied: pytz>=2020.1 in /Users/yujiantang/Documents/workspace/hello_world_project/hw_milvus/lib/python3.10/site-packages (from pandas>=1.2.4->pymilvus) (2023.3)\n",
      "Requirement already satisfied: tzdata>=2022.1 in /Users/yujiantang/Documents/workspace/hello_world_project/hw_milvus/lib/python3.10/site-packages (from pandas>=1.2.4->pymilvus) (2023.3)\n",
      "Requirement already satisfied: sympy in /Users/yujiantang/Documents/workspace/hello_world_project/hw_milvus/lib/python3.10/site-packages (from torch>=1.6.0->sentence-transformers) (1.11.1)\n",
      "Requirement already satisfied: networkx in /Users/yujiantang/Documents/workspace/hello_world_project/hw_milvus/lib/python3.10/site-packages (from torch>=1.6.0->sentence-transformers) (3.1)\n",
      "Requirement already satisfied: jinja2 in /Users/yujiantang/Documents/workspace/hello_world_project/hw_milvus/lib/python3.10/site-packages (from torch>=1.6.0->sentence-transformers) (3.1.2)\n",
      "Requirement already satisfied: regex!=2019.12.17 in /Users/yujiantang/Documents/workspace/hello_world_project/hw_milvus/lib/python3.10/site-packages (from transformers<5.0.0,>=4.6.0->sentence-transformers) (2023.3.23)\n",
      "Requirement already satisfied: tokenizers<0.15,>=0.14 in /Users/yujiantang/Documents/workspace/hello_world_project/hw_milvus/lib/python3.10/site-packages (from transformers<5.0.0,>=4.6.0->sentence-transformers) (0.14.1)\n",
      "Requirement already satisfied: safetensors>=0.3.1 in /Users/yujiantang/Documents/workspace/hello_world_project/hw_milvus/lib/python3.10/site-packages (from transformers<5.0.0,>=4.6.0->sentence-transformers) (0.3.1)\n",
      "Requirement already satisfied: certifi in /Users/yujiantang/Documents/workspace/hello_world_project/hw_milvus/lib/python3.10/site-packages (from minio->pymilvus) (2022.12.7)\n",
      "Requirement already satisfied: urllib3 in /Users/yujiantang/Documents/workspace/hello_world_project/hw_milvus/lib/python3.10/site-packages (from minio->pymilvus) (1.26.15)\n",
      "Requirement already satisfied: click in /Users/yujiantang/Documents/workspace/hello_world_project/hw_milvus/lib/python3.10/site-packages (from nltk->sentence-transformers) (8.1.3)\n",
      "Requirement already satisfied: joblib in /Users/yujiantang/Documents/workspace/hello_world_project/hw_milvus/lib/python3.10/site-packages (from nltk->sentence-transformers) (1.2.0)\n",
      "Requirement already satisfied: charset-normalizer<4,>=2 in /Users/yujiantang/Documents/workspace/hello_world_project/hw_milvus/lib/python3.10/site-packages (from requests->pymilvus) (3.1.0)\n",
      "Requirement already satisfied: idna<4,>=2.5 in /Users/yujiantang/Documents/workspace/hello_world_project/hw_milvus/lib/python3.10/site-packages (from requests->pymilvus) (3.4)\n",
      "Requirement already satisfied: threadpoolctl>=2.0.0 in /Users/yujiantang/Documents/workspace/hello_world_project/hw_milvus/lib/python3.10/site-packages (from scikit-learn->sentence-transformers) (3.1.0)\n",
      "Requirement already satisfied: pillow!=8.3.*,>=5.3.0 in /Users/yujiantang/Documents/workspace/hello_world_project/hw_milvus/lib/python3.10/site-packages (from torchvision->sentence-transformers) (9.5.0)\n",
      "Requirement already satisfied: six>=1.5 in /Users/yujiantang/Documents/workspace/hello_world_project/hw_milvus/lib/python3.10/site-packages (from python-dateutil>=2.8.2->pandas>=1.2.4->pymilvus) (1.16.0)\n",
      "Requirement already satisfied: MarkupSafe>=2.0 in /Users/yujiantang/Documents/workspace/hello_world_project/hw_milvus/lib/python3.10/site-packages (from jinja2->torch>=1.6.0->sentence-transformers) (2.1.2)\n",
      "Requirement already satisfied: mpmath>=0.19 in /Users/yujiantang/Documents/workspace/hello_world_project/hw_milvus/lib/python3.10/site-packages (from sympy->torch>=1.6.0->sentence-transformers) (1.3.0)\n"
     ]
    }
   ],
   "source": [
    "! pip install pymilvus milvus sentence-transformers"
   ]
  },
  {
   "cell_type": "code",
   "execution_count": 2,
   "metadata": {},
   "outputs": [],
   "source": [
    "from sentence_transformers import SentenceTransformer\n",
    "from milvus import default_server\n",
    "from pymilvus import connections, utility, FieldSchema, CollectionSchema, DataType, Collection\n",
    "from time import time"
   ]
  },
  {
   "cell_type": "code",
   "execution_count": 3,
   "metadata": {},
   "outputs": [],
   "source": [
    "default_server.start()\n",
    "connections.connect(host=\"127.0.0.1\", port=default_server.listen_port)"
   ]
  },
  {
   "cell_type": "code",
   "execution_count": 4,
   "metadata": {},
   "outputs": [],
   "source": [
    "v12 = SentenceTransformer(\"sentence-transformers/paraphrase-multilingual-MiniLM-L12-v2\")\n",
    "ft3_v12 = SentenceTransformer(\"Sprylab/paraphrase-multilingual-MiniLM-L12-v2-fine-tuned-3\")\n",
    "ft5_v12 = SentenceTransformer(\"hroth/psais-paraphrase-multilingual-MiniLM-L12-v2-5shot\")"
   ]
  },
  {
   "cell_type": "code",
   "execution_count": 13,
   "metadata": {},
   "outputs": [],
   "source": [
    "COLLECTION_V12 = \"Multilingual_MiniLM_V12\"\n",
    "COLLECTION_V12_Q = \"Multilingual_MiniLM_V12_Quantized\"\n",
    "DIMENSION = 384\n",
    "\n",
    "# start with a clean slate\n",
    "if utility.has_collection(COLLECTION_V12):\n",
    "    utility.drop_collection(COLLECTION_V12)\n",
    "if utility.has_collection(COLLECTION_V12_Q):\n",
    "    utility.drop_collection(COLLECTION_V12_Q)"
   ]
  },
  {
   "cell_type": "code",
   "execution_count": 6,
   "metadata": {},
   "outputs": [],
   "source": [
    "# inspired by Speak Now (Taylor's Version)\n",
    "# Lyrics from: Speak Now, Starlight, Sparks Fly, Haunted\n",
    "sentences = [\n",
    "    \"I am not the kind of girl, who should be rudely barging in on a white veil occasion, but you are not the kind of boy who should be marrying the wrong girl\",\n",
    "    \"I sneak in and see your friends and her snotty little family all dressed in pastel and she is yelling at a bridesmaid somewhere back inside a room wearing a gown shaped like a pastry\",\n",
    "    \"This is surely not what you thought it would be.\",\n",
    "    \"I lose myself in a daydream where I stand and say, 'Don't say yes, run away now I'll meet you when you're out of the church at the back door.'\",\n",
    "    \"Don't wait, or say a single vow you need to hear me out and they said, 'Speak now'.\",\n",
    "    \"Fond gestures are exchanged.\",\n",
    "    \"And the organ starts to play a song that sounds like a death march.\",\n",
    "    \"And I am hiding in the curtains, it seems that I was uninvited by your lovely bride-to-be.\",\n",
    "    \"She floats down the aisle like a pageant queen.\",\n",
    "    \"But I know you wish it was me you wish it was me don't you?\",\n",
    "    \"I hear the preacher say, 'Speak now or forever hold your peace'\",\n",
    "    \"There's the silence, there's my last chance.\",\n",
    "    \"I stand up with shaky hands, all eyes on me\",\n",
    "    \"Horrified looks from everyone in the room but I'm only looking at you.\",\n",
    "    \"And you'll say, 'Let's run away now' I'll meet you when I'm out of my tux at the back door\",\n",
    "    \"Baby, I didn't say my vows So glad you were around When they said, 'Speak now'\",\n",
    "    \"I said, 'Oh my, what a marvelous tune'\",\n",
    "    \"It was the best night, never would forget how we moved.\",\n",
    "    \"The whole place was dressed to the nines and we were dancing, dancing like we're made of starlight\",\n",
    "    \"I met Bobby on the boardwalk summer of '45\",\n",
    "    \"Picked me up late one night out the window we were seventeen and crazy running wild, wild.\",\n",
    "    \"Can't remember what song he was playing when we walked in.\",\n",
    "    \"The night we snuck into a yacht club party pretending to be a duchess and a prince.\",\n",
    "    \"He said, 'Look at you, worrying so much about things you can't change You'll spend your whole life singing the blues If you keep thinking that way'\",\n",
    "    \"He was tryna to skip rocks on the ocean saying to me 'Don't you see the starlight, starlight don't you dream impossible things'\",\n",
    "    \"Ooh, ooh he's talking crazy Ooh, ooh dancing with me Ooh, ooh we could get married Have ten kids and teach 'em how to dream\",\n",
    "    \"The way you move is like a full on rainstorm.\",\n",
    "    \"And I'm a house of cards\",\n",
    "    \"You're the kind of reckless that should send me running but I kinda know that I won't get far\",\n",
    "    \"And you stood there in front of me just close enough to touch\",\n",
    "    \"Close enough to hope you couldn't see what I was thinking of\",\n",
    "    \"Drop everything now\",\n",
    "    \"Meet me in the pouring rain\",\n",
    "    \"Kiss me on the sidewalk\",\n",
    "    \"Take away the pain\",\n",
    "    \"'Cause I see sparks fly, whenever you smile\",\n",
    "    \"Get me with those green eyes, baby as the lights go down\",\n",
    "    \"Gimme something that'll haunt me when you're not around\",\n",
    "    \"My mind forgets to remind me you're a bad idea\",\n",
    "    \"You touch me once and it's really something you find I'm even better than you imagined I would be\",\n",
    "    \"I'm on my guard for the rest of the world but with you, I know it's no good\"\n",
    "    \"And I could wait patiently but I really wish you would\"\n",
    "    \"I run my fingers through your hair and watch the lights go wild\",\n",
    "    \"Just keep on keeping your eyes on me it's just wrong enough to make it feel right\",\n",
    "    \"And lead me up the staircase won't you whisper soft and slow, I'm captivated by you, baby like a fireworks show\",\n",
    "    \"You and I walk a fragile line I have known it all this time, But I never thought I'd live to see it break\",\n",
    "    \"It's getting dark and it's all too quiet And I can't trust anything now And it's coming over you like it's all a big mistake\",\n",
    "    \"Oh, I'm holding my breath Won't lose you again\",\n",
    "    \"Something's made your eyes go cold\",\n",
    "    \"Come on, come on, don't leave me like this I thought I had you figured out\",\n",
    "    \"Something's gone terribly wrong you're all I wanted\",\n",
    "    \"Can't breathe whenever you're gone can't turn back now, I'm haunted\",\n",
    "    \"I just know You're not gone, you can't be gone, no\",\n",
    "]"
   ]
  },
  {
   "cell_type": "code",
   "execution_count": 7,
   "metadata": {},
   "outputs": [
    {
     "data": {
      "text/plain": [
       "51"
      ]
     },
     "execution_count": 7,
     "metadata": {},
     "output_type": "execute_result"
    }
   ],
   "source": [
    "len(sentences)"
   ]
  },
  {
   "cell_type": "code",
   "execution_count": 14,
   "metadata": {},
   "outputs": [],
   "source": [
    "# object should be inserted in the format of (id, embedding, sentence (enabled by dynamic schema))\n",
    "fields = [\n",
    "    FieldSchema(name=\"id\", dtype=DataType.INT64, is_primary=True, auto_id=True),\n",
    "    FieldSchema(name=\"embedding\", dtype=DataType.FLOAT_VECTOR, dim=DIMENSION),\n",
    "]\n",
    "schema = CollectionSchema(fields=fields, enable_dynamic_field=True)\n",
    "collection_v12 = Collection(name=COLLECTION_V12, schema=schema)\n",
    "collection_v12_ft5 = Collection(name=COLLECTION_V12_Q, schema=schema)"
   ]
  },
  {
   "cell_type": "code",
   "execution_count": 15,
   "metadata": {},
   "outputs": [],
   "source": [
    "v12_embeds = {}\n",
    "v12_q_embeds = {}\n",
    "for sentence in sentences:\n",
    "    v12_embeds[sentence] = v12.encode(sentence)\n",
    "    v12_q_embeds[sentence] = ft5_v12.encode(sentence)"
   ]
  },
  {
   "cell_type": "code",
   "execution_count": 16,
   "metadata": {},
   "outputs": [],
   "source": [
    "index_params = {\n",
    "    \"index_type\": \"IVF_FLAT\",\n",
    "    \"metric_type\": \"L2\",\n",
    "    \"params\": {\"nlist\": 4},\n",
    "}\n",
    "collection_v12.create_index(field_name=\"embedding\", index_params=index_params)\n",
    "collection_v12.load()\n",
    "collection_v12_ft5.create_index(field_name=\"embedding\", index_params=index_params)\n",
    "collection_v12_ft5.load()"
   ]
  },
  {
   "cell_type": "code",
   "execution_count": 17,
   "metadata": {},
   "outputs": [],
   "source": [
    "for sentence in sentences:\n",
    "    v12_insert = [\n",
    "        {\n",
    "            \"sentence\": sentence,\n",
    "            \"embedding\": v12_embeds[sentence]\n",
    "        }\n",
    "    ]\n",
    "    ft_insert = [\n",
    "        {\n",
    "            \"sentence\": sentence,\n",
    "            \"embedding\": v12_q_embeds[sentence]\n",
    "        }\n",
    "    ]\n",
    "    collection_v12.insert(v12_insert)\n",
    "    collection_v12_ft5.insert(ft_insert)\n",
    "\n",
    "collection_v12.flush()\n",
    "collection_v12_ft5.flush()"
   ]
  },
  {
   "cell_type": "code",
   "execution_count": 18,
   "metadata": {},
   "outputs": [],
   "source": [
    "search_embeds = {}\n",
    "search_data = []\n",
    "for sentence in sentences[5:7]:\n",
    "    vector_embedding = ft3_v12.encode(sentence)\n",
    "    search_embeds[sentence] = vector_embedding\n",
    "    search_data.append(vector_embedding)"
   ]
  },
  {
   "cell_type": "code",
   "execution_count": 19,
   "metadata": {},
   "outputs": [
    {
     "name": "stdout",
     "output_type": "stream",
     "text": [
      "Time for first search: 0.025593996047973633\n",
      "Time for second search: 0.0036652088165283203\n"
     ]
    }
   ],
   "source": [
    "start1 = time()\n",
    "res_v12 = collection_v12.search(\n",
    "    data=search_data,  # Embeded search value\n",
    "    anns_field=\"embedding\",  # Search across embeddings\n",
    "    param={\"metric_type\": \"L2\",\n",
    "            \"params\": {\"nprobe\": 2}},\n",
    "    limit = 3,  # Limit to top_k results per search\n",
    "    output_fields=[\"sentence\"]\n",
    ")\n",
    "time1 = time() - start1\n",
    "print(f\"Time for first search: {time1}\")\n",
    "start2 = time()\n",
    "res_v12_ft5 = collection_v12_ft5.search(\n",
    "    data=search_data,  # Embeded search value\n",
    "    anns_field=\"embedding\",  # Search across embeddings\n",
    "    param={\"metric_type\": \"L2\",\n",
    "            \"params\": {\"nprobe\": 2}},\n",
    "    limit = 3,  # Limit to top_k results per search\n",
    "    output_fields=[\"sentence\"]\n",
    ")\n",
    "time2 = time() - start2\n",
    "print(f\"Time for second search: {time2}\")"
   ]
  },
  {
   "cell_type": "code",
   "execution_count": 20,
   "metadata": {},
   "outputs": [
    {
     "name": "stdout",
     "output_type": "stream",
     "text": [
      "Query sentence: I am not the kind of girl, who should be rudely barging in on a white veil occasion, but you are not the kind of boy who should be marrying the wrong girl\n",
      "Nearest Neighbor Number 0: I'm on my guard for the rest of the world but with you, I know it's no goodAnd I could wait patiently but I really wish you wouldI run my fingers through your hair and watch the lights go wild ---- 20.61680793762207\n",
      "\n",
      "Query sentence: I am not the kind of girl, who should be rudely barging in on a white veil occasion, but you are not the kind of boy who should be marrying the wrong girl\n",
      "Nearest Neighbor Number 0: Gimme something that'll haunt me when you're not around ---- 23.124980926513672\n",
      "\n",
      "Query sentence: I am not the kind of girl, who should be rudely barging in on a white veil occasion, but you are not the kind of boy who should be marrying the wrong girl\n",
      "Nearest Neighbor Number 0: I lose myself in a daydream where I stand and say, 'Don't say yes, run away now I'll meet you when you're out of the church at the back door.' ---- 23.23134422302246\n",
      "\n",
      "Query sentence: I sneak in and see your friends and her snotty little family all dressed in pastel and she is yelling at a bridesmaid somewhere back inside a room wearing a gown shaped like a pastry\n",
      "Nearest Neighbor Number 1: And the organ starts to play a song that sounds like a death march. ---- 17.02806282043457\n",
      "\n",
      "Query sentence: I sneak in and see your friends and her snotty little family all dressed in pastel and she is yelling at a bridesmaid somewhere back inside a room wearing a gown shaped like a pastry\n",
      "Nearest Neighbor Number 1: I'm on my guard for the rest of the world but with you, I know it's no goodAnd I could wait patiently but I really wish you wouldI run my fingers through your hair and watch the lights go wild ---- 17.140911102294922\n",
      "\n",
      "Query sentence: I sneak in and see your friends and her snotty little family all dressed in pastel and she is yelling at a bridesmaid somewhere back inside a room wearing a gown shaped like a pastry\n",
      "Nearest Neighbor Number 1: I lose myself in a daydream where I stand and say, 'Don't say yes, run away now I'll meet you when you're out of the church at the back door.' ---- 17.333152770996094\n",
      "\n"
     ]
    }
   ],
   "source": [
    "for i, hits in enumerate(res_v12):\n",
    "    for hit in hits:\n",
    "        print(f\"Query sentence: {sentences[i]}\")\n",
    "        print(f\"Nearest Neighbor Number {i}: {hit.entity.get('sentence')} ---- {hit.distance}\\n\")"
   ]
  },
  {
   "cell_type": "code",
   "execution_count": 21,
   "metadata": {},
   "outputs": [
    {
     "name": "stdout",
     "output_type": "stream",
     "text": [
      "Query sentence: I am not the kind of girl, who should be rudely barging in on a white veil occasion, but you are not the kind of boy who should be marrying the wrong girl\n",
      "Nearest Neighbor Number 0: I'm on my guard for the rest of the world but with you, I know it's no goodAnd I could wait patiently but I really wish you wouldI run my fingers through your hair and watch the lights go wild ---- 21.111156463623047\n",
      "\n",
      "Query sentence: I am not the kind of girl, who should be rudely barging in on a white veil occasion, but you are not the kind of boy who should be marrying the wrong girl\n",
      "Nearest Neighbor Number 0: I lose myself in a daydream where I stand and say, 'Don't say yes, run away now I'll meet you when you're out of the church at the back door.' ---- 23.302780151367188\n",
      "\n",
      "Query sentence: I am not the kind of girl, who should be rudely barging in on a white veil occasion, but you are not the kind of boy who should be marrying the wrong girl\n",
      "Nearest Neighbor Number 0: I am not the kind of girl, who should be rudely barging in on a white veil occasion, but you are not the kind of boy who should be marrying the wrong girl ---- 24.179031372070312\n",
      "\n",
      "Query sentence: I sneak in and see your friends and her snotty little family all dressed in pastel and she is yelling at a bridesmaid somewhere back inside a room wearing a gown shaped like a pastry\n",
      "Nearest Neighbor Number 1: Come on, come on, don't leave me like this I thought I had you figured out ---- 17.51182746887207\n",
      "\n",
      "Query sentence: I sneak in and see your friends and her snotty little family all dressed in pastel and she is yelling at a bridesmaid somewhere back inside a room wearing a gown shaped like a pastry\n",
      "Nearest Neighbor Number 1: I'm on my guard for the rest of the world but with you, I know it's no goodAnd I could wait patiently but I really wish you wouldI run my fingers through your hair and watch the lights go wild ---- 17.575618743896484\n",
      "\n",
      "Query sentence: I sneak in and see your friends and her snotty little family all dressed in pastel and she is yelling at a bridesmaid somewhere back inside a room wearing a gown shaped like a pastry\n",
      "Nearest Neighbor Number 1: I am not the kind of girl, who should be rudely barging in on a white veil occasion, but you are not the kind of boy who should be marrying the wrong girl ---- 17.844852447509766\n",
      "\n"
     ]
    }
   ],
   "source": [
    "for i, hits in enumerate(res_v12_ft5):\n",
    "    for hit in hits:\n",
    "        print(f\"Query sentence: {sentences[i]}\")\n",
    "        print(f\"Nearest Neighbor Number {i}: {hit.entity.get('sentence')} ---- {hit.distance}\\n\")"
   ]
  },
  {
   "cell_type": "code",
   "execution_count": null,
   "metadata": {},
   "outputs": [],
   "source": []
  }
 ],
 "metadata": {
  "kernelspec": {
   "display_name": "hw_milvus",
   "language": "python",
   "name": "python3"
  },
  "language_info": {
   "codemirror_mode": {
    "name": "ipython",
    "version": 3
   },
   "file_extension": ".py",
   "mimetype": "text/x-python",
   "name": "python",
   "nbconvert_exporter": "python",
   "pygments_lexer": "ipython3",
   "version": "3.10.11"
  },
  "orig_nbformat": 4
 },
 "nbformat": 4,
 "nbformat_minor": 2
}
